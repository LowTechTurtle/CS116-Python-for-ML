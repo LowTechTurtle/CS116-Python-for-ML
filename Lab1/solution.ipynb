{
  "cells": [
    {
      "cell_type": "markdown",
      "id": "53853195-a8c4-40ae-9bf1-ded651326392",
      "metadata": {
        "id": "53853195-a8c4-40ae-9bf1-ded651326392"
      },
      "source": [
        "### Bài tập 1: Sử dụng Python như một Máy tính cầm tay"
      ]
    },
    {
      "cell_type": "markdown",
      "id": "9673efa0-0044-4786-991a-1eb824556de2",
      "metadata": {
        "id": "9673efa0-0044-4786-991a-1eb824556de2"
      },
      "source": [
        "Lucky Larry đã mua $75$ cổ phiếu của Google với giá $\\$235$ cho mỗi cổ phiếu. Hôm nay, giá của cổ phiếu Google là $\\$711$. Sử dụng chế độ tương tác (interactive mode) của Python như một máy tính cầm tay, hãy tính toán xem Larry sẽ lãi bao nhiêu nếu anh ấy bán tất cả cổ phiếu của mình."
      ]
    },
    {
      "cell_type": "code",
      "execution_count": 1,
      "id": "c6607735-6544-4f9f-ac8d-f0b864b2967c",
      "metadata": {
        "colab": {
          "base_uri": "https://localhost:8080/"
        },
        "id": "c6607735-6544-4f9f-ac8d-f0b864b2967c",
        "outputId": "8efa0703-fa42-453e-a6bb-e019a9b84be5"
      },
      "outputs": [
        {
          "output_type": "execute_result",
          "data": {
            "text/plain": [
              "35700"
            ]
          },
          "metadata": {},
          "execution_count": 1
        }
      ],
      "source": [
        "(711 - 235) * 75"
      ]
    },
    {
      "cell_type": "markdown",
      "id": "8e2e92c8-1e76-401c-b257-d35a697170db",
      "metadata": {
        "id": "8e2e92c8-1e76-401c-b257-d35a697170db"
      },
      "source": [
        "Sử dụng biến gạch dưới (_) để sử dụng kết quả của phép tính lần gần nhất. Larry sẽ lãi bao nhiêu sau khi người môi giới xấu xa của anh ta lấy đi $20\\%$?"
      ]
    },
    {
      "cell_type": "code",
      "execution_count": 2,
      "id": "e85d99d3-56ce-431c-b159-faa4e28fae8c",
      "metadata": {
        "colab": {
          "base_uri": "https://localhost:8080/"
        },
        "id": "e85d99d3-56ce-431c-b159-faa4e28fae8c",
        "outputId": "b8bc796e-a4a8-4b7d-dbd4-ea9be4ef1528"
      },
      "outputs": [
        {
          "output_type": "execute_result",
          "data": {
            "text/plain": [
              "28560.0"
            ]
          },
          "metadata": {},
          "execution_count": 2
        }
      ],
      "source": [
        "### BEGIN SOLUTION\n",
        "_ * 0.8\n",
        "\n",
        "### END SOLUTION"
      ]
    },
    {
      "cell_type": "markdown",
      "id": "2040dab8-23e3-4874-a0f1-761990f37be3",
      "metadata": {
        "id": "2040dab8-23e3-4874-a0f1-761990f37be3"
      },
      "source": [
        "### Bài tập 2: Nhận trợ giúp"
      ]
    },
    {
      "cell_type": "markdown",
      "id": "1028962c-921a-41c0-a917-60f522360661",
      "metadata": {
        "id": "1028962c-921a-41c0-a917-60f522360661"
      },
      "source": [
        "Sử dụng lệnh `help()` để nhận trợ giúp về hàm `abs()`, và sau này bạn có thể truy cập http://docs.python.org để tìm thêm tài liệu về hàm `abs()` hoặc các hàm khác."
      ]
    },
    {
      "cell_type": "code",
      "execution_count": 3,
      "id": "a4833a60-07b8-4dd8-a108-ee0c3dd2faae",
      "metadata": {
        "colab": {
          "base_uri": "https://localhost:8080/"
        },
        "id": "a4833a60-07b8-4dd8-a108-ee0c3dd2faae",
        "outputId": "6e992967-93c4-44a9-eb61-6ec71321b766"
      },
      "outputs": [
        {
          "output_type": "stream",
          "name": "stdout",
          "text": [
            "Help on built-in function abs in module builtins:\n",
            "\n",
            "abs(x, /)\n",
            "    Return the absolute value of the argument.\n",
            "\n"
          ]
        }
      ],
      "source": [
        "### BEGIN SOLUTION\n",
        "help(abs)\n",
        "### END SOLUTION"
      ]
    },
    {
      "cell_type": "markdown",
      "id": "c26f3d20-7b40-4f2d-9e64-016d4268c6d5",
      "metadata": {
        "id": "c26f3d20-7b40-4f2d-9e64-016d4268c6d5"
      },
      "source": [
        "### Bài tập 3: Quả bóng nảy"
      ]
    },
    {
      "cell_type": "markdown",
      "id": "880d2b4e-c4d7-4e95-915b-e823a97b26d5",
      "metadata": {
        "id": "880d2b4e-c4d7-4e95-915b-e823a97b26d5"
      },
      "source": [
        "Viết một hàm có tên `display_bounce_heights` nhận đầu vào là độ cao ban đầu $h$ (mét) ($100 \\leq h \\leq 1000000$) của quả bóng cao su, sau đó in ra bảng hiển thị độ cao của quả bóng sau $10$ lần nảy đầu tiên. Mỗi lần quả bóng chạm đất, nó sẽ nảy lên độ cao bằng $3/5$ độ cao mà nó rơi. Làm tròn kết quả đến $4$ chữ số thập phân."
      ]
    },
    {
      "cell_type": "code",
      "execution_count": 17,
      "id": "af185290-9e4b-4273-9de3-f5d1e4a66372",
      "metadata": {
        "id": "af185290-9e4b-4273-9de3-f5d1e4a66372"
      },
      "outputs": [],
      "source": [
        "### BEGIN SOLUTION\n",
        "def display_bounce_heights(h):\n",
        "  print(\"Lần | Độ cao\\n-----------------\")\n",
        "  for i in range(1, 11):\n",
        "    ans = 0.6**i * h\n",
        "    print(f\" {i}  |  {ans:.4f} m\")\n",
        "### END SOLUTION"
      ]
    },
    {
      "cell_type": "code",
      "execution_count": 24,
      "id": "781c2710-7c2f-4a13-941b-860c8bd811df",
      "metadata": {
        "colab": {
          "base_uri": "https://localhost:8080/"
        },
        "id": "781c2710-7c2f-4a13-941b-860c8bd811df",
        "outputId": "4993cd55-84cf-4201-e3d1-2fd43b4c9277"
      },
      "outputs": [
        {
          "output_type": "stream",
          "name": "stdout",
          "text": [
            "Lần | Độ cao\n",
            "-----------------\n",
            " 1  |  60.0000 m\n",
            " 2  |  36.0000 m\n",
            " 3  |  21.6000 m\n",
            " 4  |  12.9600 m\n",
            " 5  |  7.7760 m\n",
            " 6  |  4.6656 m\n",
            " 7  |  2.7994 m\n",
            " 8  |  1.6796 m\n",
            " 9  |  1.0078 m\n",
            " 10 |  0.6047 m\n"
          ]
        }
      ],
      "source": [
        "display_bounce_heights(100)"
      ]
    },
    {
      "cell_type": "markdown",
      "id": "9fba9def-a5f1-4020-b9cd-05f277612fd1",
      "metadata": {
        "id": "9fba9def-a5f1-4020-b9cd-05f277612fd1"
      },
      "source": [
        "### Bài tập 4: Biểu thức chính quy"
      ]
    },
    {
      "cell_type": "markdown",
      "id": "75937350-f5db-4dbf-921b-581a633a3eee",
      "metadata": {
        "id": "75937350-f5db-4dbf-921b-581a633a3eee"
      },
      "source": [
        "Viết một hàm có tên `find_and_replace_dates` để tìm tất cả các ngày có định dạng `mm/dd/yyyy` trong một chuỗi văn bản đầu vào và thay thế chúng bằng định dạng `yyyy-mm-dd`. Hàm sẽ trả về một `tuple` bao gồm danh sách (`list`) các ngày tìm được và chuỗi (`str`) văn bản mới sau khi thực hiện thay thế."
      ]
    },
    {
      "cell_type": "code",
      "execution_count": 39,
      "id": "3956a991-0bf3-42e2-8040-abb0738c1e53",
      "metadata": {
        "id": "3956a991-0bf3-42e2-8040-abb0738c1e53"
      },
      "outputs": [],
      "source": [
        "### BEGIN SOLUTION\n",
        "import re\n",
        "def find_and_replace_dates(text: str) -> tuple[list[str], str]:\n",
        "    pattern = r\"\\b(\\d{1,2})/(\\d{1,2})/(\\d{4})\\b\"\n",
        "\n",
        "    matches = re.findall(pattern, text)\n",
        "    found_dates = [\"/\".join(match) for match in matches]\n",
        "\n",
        "    def replace_format(match):\n",
        "        return f\"{match.group(3)}-{int(match.group(1))}-{int(match.group(2))}\"\n",
        "\n",
        "    new_text = re.sub(pattern, replace_format, text)\n",
        "\n",
        "    return found_dates, new_text\n",
        "\n",
        "### END SOLUTION"
      ]
    },
    {
      "cell_type": "code",
      "execution_count": 40,
      "id": "e24238be-64e7-4da4-8eee-f87fd7a98639",
      "metadata": {
        "colab": {
          "base_uri": "https://localhost:8080/"
        },
        "id": "e24238be-64e7-4da4-8eee-f87fd7a98639",
        "outputId": "148aa233-35e6-44fd-8430-daa9ac1472d0"
      },
      "outputs": [
        {
          "output_type": "execute_result",
          "data": {
            "text/plain": [
              "(['3/4/2024', '3/5/2024'], 'Hôm nay là ngày 2024-3-4. Ngày mai là 2024-3-5.')"
            ]
          },
          "metadata": {},
          "execution_count": 40
        }
      ],
      "source": [
        "find_and_replace_dates(\"Hôm nay là ngày 3/4/2024. Ngày mai là 3/5/2024.\")"
      ]
    },
    {
      "cell_type": "markdown",
      "id": "4f4564df-572e-409d-a9d2-7012728def87",
      "metadata": {
        "id": "4f4564df-572e-409d-a9d2-7012728def87"
      },
      "source": [
        "### Bài tập 5: Các phương thức của chuỗi"
      ]
    },
    {
      "cell_type": "markdown",
      "id": "c77e50e9-8162-4d57-98c0-4a2449a4be5c",
      "metadata": {
        "id": "c77e50e9-8162-4d57-98c0-4a2449a4be5c"
      },
      "source": [
        "Hãy lập danh sách tất cả các phương thức có sẵn của đối tượng `s` trong môi trường Python mà đoạn mã này sẽ được chạy. Đối tượng `s` là một chuỗi (`str`), và yêu cầu của bài tập là xác định và ghi lại tất cả các phương thức mà Python cung cấp cho kiểu dữ liệu này vào danh sách `string_methods`. Ví dụ: `string_methods = ['lower', '__add__']`. Lưu ý, trong bài tập này bạn vui lòng liệt kê tất cả phương thức"
      ]
    },
    {
      "cell_type": "code",
      "execution_count": 9,
      "id": "32cc8c2d-4d69-490f-b033-b9f29a70ee95",
      "metadata": {
        "colab": {
          "base_uri": "https://localhost:8080/"
        },
        "id": "32cc8c2d-4d69-490f-b033-b9f29a70ee95",
        "outputId": "e92ccd84-58c5-43aa-ba6d-6357091b0518"
      },
      "outputs": [
        {
          "output_type": "execute_result",
          "data": {
            "text/plain": [
              "['__add__',\n",
              " '__class__',\n",
              " '__contains__',\n",
              " '__delattr__',\n",
              " '__dir__',\n",
              " '__eq__',\n",
              " '__format__',\n",
              " '__ge__',\n",
              " '__getattribute__',\n",
              " '__getitem__',\n",
              " '__getnewargs__',\n",
              " '__getstate__',\n",
              " '__gt__',\n",
              " '__hash__',\n",
              " '__init__',\n",
              " '__init_subclass__',\n",
              " '__iter__',\n",
              " '__le__',\n",
              " '__len__',\n",
              " '__lt__',\n",
              " '__mod__',\n",
              " '__mul__',\n",
              " '__ne__',\n",
              " '__new__',\n",
              " '__reduce__',\n",
              " '__reduce_ex__',\n",
              " '__repr__',\n",
              " '__rmod__',\n",
              " '__rmul__',\n",
              " '__setattr__',\n",
              " '__sizeof__',\n",
              " '__str__',\n",
              " '__subclasshook__',\n",
              " 'capitalize',\n",
              " 'casefold',\n",
              " 'center',\n",
              " 'count',\n",
              " 'encode',\n",
              " 'endswith',\n",
              " 'expandtabs',\n",
              " 'find',\n",
              " 'format',\n",
              " 'format_map',\n",
              " 'index',\n",
              " 'isalnum',\n",
              " 'isalpha',\n",
              " 'isascii',\n",
              " 'isdecimal',\n",
              " 'isdigit',\n",
              " 'isidentifier',\n",
              " 'islower',\n",
              " 'isnumeric',\n",
              " 'isprintable',\n",
              " 'isspace',\n",
              " 'istitle',\n",
              " 'isupper',\n",
              " 'join',\n",
              " 'ljust',\n",
              " 'lower',\n",
              " 'lstrip',\n",
              " 'maketrans',\n",
              " 'partition',\n",
              " 'removeprefix',\n",
              " 'removesuffix',\n",
              " 'replace',\n",
              " 'rfind',\n",
              " 'rindex',\n",
              " 'rjust',\n",
              " 'rpartition',\n",
              " 'rsplit',\n",
              " 'rstrip',\n",
              " 'split',\n",
              " 'splitlines',\n",
              " 'startswith',\n",
              " 'strip',\n",
              " 'swapcase',\n",
              " 'title',\n",
              " 'translate',\n",
              " 'upper',\n",
              " 'zfill']"
            ]
          },
          "metadata": {},
          "execution_count": 9
        }
      ],
      "source": [
        "s = \"Hello, World!\"\n",
        "### BEGIN SOLUTION\n",
        "string_methods = [method for method in dir(str) if callable(getattr(str, method))]\n",
        "### END SOLUTION"
      ]
    },
    {
      "cell_type": "markdown",
      "id": "b53c04c3-eff0-48d0-a892-a4a598e869c0",
      "metadata": {
        "id": "b53c04c3-eff0-48d0-a892-a4a598e869c0"
      },
      "source": [
        "### Bài tập 6: Xử lý chuỗi"
      ]
    },
    {
      "cell_type": "markdown",
      "id": "94fe0514-c1e0-4e59-a93a-93857060b35f",
      "metadata": {
        "id": "94fe0514-c1e0-4e59-a93a-93857060b35f"
      },
      "source": [
        "Viết một hàm với tên `sort_and_join_stocks`. Hàm này sẽ nhận vào một chuỗi (`str`) là danh sách các mã chứng khoán, trong đó mỗi mã chứng khoán được phân tách bởi dấu phẩy. Hàm sẽ sắp xếp các mã chứng khoán theo thứ tự tăng dần và sau đó nối chúng lại thành một chuỗi mới, với các mã vẫn được phân tách bởi dấu phẩy. Hàm sẽ trả về một chuỗi (`str`)."
      ]
    },
    {
      "cell_type": "code",
      "execution_count": 19,
      "id": "2115a895-0410-4d65-b679-7d7d1a44ee3d",
      "metadata": {
        "id": "2115a895-0410-4d65-b679-7d7d1a44ee3d"
      },
      "outputs": [],
      "source": [
        "### BEGIN SOLUTION\n",
        "def sort_and_join_stocks(str):\n",
        "  slist = str.split(sep=',')\n",
        "  sorted(slist)\n",
        "  return \",\".join(slist)\n",
        "### END SOLUTION"
      ]
    },
    {
      "cell_type": "code",
      "execution_count": 20,
      "id": "699359d0-c4c6-4a63-9902-1a915cc3b9d9",
      "metadata": {
        "colab": {
          "base_uri": "https://localhost:8080/",
          "height": 35
        },
        "id": "699359d0-c4c6-4a63-9902-1a915cc3b9d9",
        "outputId": "52565fe1-527a-4a92-9554-2c8f18476726"
      },
      "outputs": [
        {
          "output_type": "execute_result",
          "data": {
            "text/plain": [
              "'NVDA,AMZN,AAPL,CSCO,HPQ,NFLX,FB'"
            ],
            "application/vnd.google.colaboratory.intrinsic+json": {
              "type": "string"
            }
          },
          "metadata": {},
          "execution_count": 20
        }
      ],
      "source": [
        "sort_and_join_stocks('NVDA,AMZN,AAPL,CSCO,HPQ,NFLX,FB')"
      ]
    },
    {
      "cell_type": "markdown",
      "id": "81816fe6-36d3-4a08-9660-647d2dbc01ca",
      "metadata": {
        "id": "81816fe6-36d3-4a08-9660-647d2dbc01ca"
      },
      "source": [
        "### Bài tập 7: Sử dụng thư viện `os`"
      ]
    },
    {
      "cell_type": "markdown",
      "id": "3578d5cb-f2a5-4422-9caf-a946c34a2f4a",
      "metadata": {
        "id": "3578d5cb-f2a5-4422-9caf-a946c34a2f4a"
      },
      "source": [
        "Vui lòng sử dụng thư viện `os` để xác định đường dẫn đến thư mục chứa tập tin Jupyter Notebook hoặc tập tin Python đang được thực thi. Sau đó, lưu chuỗi đường dẫn thu được vào biến `current_working_directory`. Phương pháp này cần phải đảm bảo tính chính xác khi được áp dụng trên một máy tính khác, không chỉ riêng máy tính của bạn."
      ]
    },
    {
      "cell_type": "code",
      "execution_count": 38,
      "id": "9620c261-07c0-45b0-a5df-7450fc4d2599",
      "metadata": {
        "colab": {
          "base_uri": "https://localhost:8080/",
          "height": 35
        },
        "id": "9620c261-07c0-45b0-a5df-7450fc4d2599",
        "outputId": "0d661c8d-7482-4a4f-ea54-da08cc9e4a72"
      },
      "outputs": [
        {
          "output_type": "execute_result",
          "data": {
            "text/plain": [
              "'/content'"
            ],
            "application/vnd.google.colaboratory.intrinsic+json": {
              "type": "string"
            }
          },
          "metadata": {},
          "execution_count": 38
        }
      ],
      "source": [
        "import os\n",
        "### BEGIN SOLUTION\n",
        "current_working_directory = os.path.dirname(os.path.abspath(__file__)) if '__file__' in globals() else os.getcwd()\n",
        "\n",
        "### END SOLUTION"
      ]
    },
    {
      "cell_type": "markdown",
      "id": "a7491701-4620-404a-8249-edc25e022d56",
      "metadata": {
        "id": "a7491701-4620-404a-8249-edc25e022d56"
      },
      "source": [
        "### Bài tập 8: Làm việc với tập tin"
      ]
    },
    {
      "cell_type": "markdown",
      "id": "e4c7efc4-c271-4034-a6d7-e492c3fa9ae9",
      "metadata": {
        "id": "e4c7efc4-c271-4034-a6d7-e492c3fa9ae9"
      },
      "source": [
        "Các cột trong tệp `./data/portfolio.csv` tương ứng với `tên cổ phiếu`, `số lượng cổ phiếu` và `giá mua của một lô cổ phiếu đơn lẻ`. Đọc tất cả các dòng và tính toán xem việc mua tất cả các cổ phiếu trong danh mục đầu tư này tốn bao nhiêu tiền và lưu kết quả vào biến `total_cost`. Gợi ý: để chuyển đổi một chuỗi thành một số nguyên, sử dụng `int(s)`. Để chuyển đổi một chuỗi thành một số thực, sử dụng `float(s)`. Nếu bạn sử dụng thư viện `pandas` trong bài tập này, bạn sẽ không được tính điểm."
      ]
    },
    {
      "cell_type": "code",
      "execution_count": 28,
      "id": "a7cc0eb6-418c-402f-a162-3918550ccf45",
      "metadata": {
        "colab": {
          "base_uri": "https://localhost:8080/",
          "height": 211
        },
        "id": "a7cc0eb6-418c-402f-a162-3918550ccf45",
        "outputId": "705cd0c9-0c60-4e7e-984f-89933bf6dc94"
      },
      "outputs": [
        {
          "output_type": "error",
          "ename": "FileNotFoundError",
          "evalue": "[Errno 2] No such file or directory: './data/portfolio.csv'",
          "traceback": [
            "\u001b[0;31m---------------------------------------------------------------------------\u001b[0m",
            "\u001b[0;31mFileNotFoundError\u001b[0m                         Traceback (most recent call last)",
            "\u001b[0;32m<ipython-input-28-220c20e36edd>\u001b[0m in \u001b[0;36m<cell line: 0>\u001b[0;34m()\u001b[0m\n\u001b[1;32m      5\u001b[0m \u001b[0mtotal_cost\u001b[0m \u001b[0;34m=\u001b[0m \u001b[0;36m0\u001b[0m\u001b[0;34m\u001b[0m\u001b[0;34m\u001b[0m\u001b[0m\n\u001b[1;32m      6\u001b[0m \u001b[0;34m\u001b[0m\u001b[0m\n\u001b[0;32m----> 7\u001b[0;31m \u001b[0;32mwith\u001b[0m \u001b[0mopen\u001b[0m\u001b[0;34m(\u001b[0m\u001b[0;34m\"./data/portfolio.csv\"\u001b[0m\u001b[0;34m,\u001b[0m \u001b[0mnewline\u001b[0m\u001b[0;34m=\u001b[0m\u001b[0;34m''\u001b[0m\u001b[0;34m,\u001b[0m \u001b[0mencoding\u001b[0m\u001b[0;34m=\u001b[0m\u001b[0;34m'utf-8'\u001b[0m\u001b[0;34m)\u001b[0m \u001b[0;32mas\u001b[0m \u001b[0mfile\u001b[0m\u001b[0;34m:\u001b[0m\u001b[0;34m\u001b[0m\u001b[0;34m\u001b[0m\u001b[0m\n\u001b[0m\u001b[1;32m      8\u001b[0m     \u001b[0mreader\u001b[0m \u001b[0;34m=\u001b[0m \u001b[0mcsv\u001b[0m\u001b[0;34m.\u001b[0m\u001b[0mreader\u001b[0m\u001b[0;34m(\u001b[0m\u001b[0mfile\u001b[0m\u001b[0;34m)\u001b[0m\u001b[0;34m\u001b[0m\u001b[0;34m\u001b[0m\u001b[0m\n\u001b[1;32m      9\u001b[0m     \u001b[0mnext\u001b[0m\u001b[0;34m(\u001b[0m\u001b[0mreader\u001b[0m\u001b[0;34m)\u001b[0m  \u001b[0;31m# Bỏ qua dòng tiêu đề nếu có\u001b[0m\u001b[0;34m\u001b[0m\u001b[0;34m\u001b[0m\u001b[0m\n",
            "\u001b[0;31mFileNotFoundError\u001b[0m: [Errno 2] No such file or directory: './data/portfolio.csv'"
          ]
        }
      ],
      "source": [
        "total_cost = 0\n",
        "### BEGIN SOLUTION\n",
        "import csv\n",
        "\n",
        "total_cost = 0\n",
        "\n",
        "with open(\"./data/portfolio.csv\", newline='', encoding='utf-8') as file:\n",
        "    reader = csv.reader(file)\n",
        "    next(reader)\n",
        "    for row in reader:\n",
        "        _, quantity, price = row\n",
        "        total_cost += int(quantity) * float(price)\n",
        "\n",
        "print(\"Total cost:\", total_cost)\n",
        "### END SOLUTION"
      ]
    }
  ],
  "metadata": {
    "kernelspec": {
      "display_name": "Python 3 (ipykernel)",
      "language": "python",
      "name": "python3"
    },
    "language_info": {
      "codemirror_mode": {
        "name": "ipython",
        "version": 3
      },
      "file_extension": ".py",
      "mimetype": "text/x-python",
      "name": "python",
      "nbconvert_exporter": "python",
      "pygments_lexer": "ipython3",
      "version": "3.11.5"
    },
    "colab": {
      "provenance": []
    }
  },
  "nbformat": 4,
  "nbformat_minor": 5
}